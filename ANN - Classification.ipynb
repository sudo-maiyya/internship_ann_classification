{
 "cells": [
  {
   "cell_type": "code",
   "execution_count": 1,
   "id": "44db6fbb",
   "metadata": {},
   "outputs": [],
   "source": [
    "#importing required libraries\n",
    "import numpy as np\n",
    "import pandas as pd"
   ]
  },
  {
   "cell_type": "code",
   "execution_count": 1,
   "id": "9404eddf",
   "metadata": {},
   "outputs": [],
   "source": [
    "def NeuralNetwork(X_train, Y_train, X_val=None, Y_val=None, epochs=10, nodes=[], lr=0.15):\n",
    "    hidden_layers = len(nodes) - 1\n",
    "    weights = InitializeWeight(nodes)\n",
    "\n",
    "    for epoch in range(1, epochs+1):\n",
    "        weights = Train(X_train, Y_train, lr, weights)\n",
    "\n",
    "        if(epoch % 10 == 0):\n",
    "            print(\"Epoch {}\".format(epoch))\n",
    "            print(\"Training Accuracy:{}\".format(Accuracy(X_train, Y_train, weights)))\n",
    "            if X_val.any():\n",
    "                print(\"Validation Accuracy:{}\".format(Accuracy(X_val, Y_val, weights)))\n",
    "            \n",
    "    return weights"
   ]
  },
  {
   "cell_type": "code",
   "execution_count": 9,
   "id": "f80a791a",
   "metadata": {},
   "outputs": [],
   "source": [
    "#function to intialize the weight\n",
    "def InitializeWeight(nodes):\n",
    "    layers, weights = len(nodes), []\n",
    "    #for loop to intialize the weight randomly\n",
    "    for i in range(1, layers):\n",
    "        #assigning random weights\n",
    "        w = [[np.random.uniform(-1, 1) for j in range(nodes[i-1] + 1)]for k in range(nodes[i])]\n",
    "        weights.append(np.matrix(w))\n",
    "    \n",
    "    return weights"
   ]
  },
  {
   "cell_type": "code",
   "execution_count": 5,
   "id": "eda6d7c8",
   "metadata": {},
   "outputs": [],
   "source": [
    "#train function\n",
    "def Train(X, Y, lr, weights):\n",
    "    layers = len(weights)\n",
    "    for i in range(len(X)):\n",
    "        x, y = X[i], Y[i]\n",
    "        x = np.matrix(np.append(1, x))\n",
    "        \n",
    "        activations = ForwardPropagation(x, weights, layers)\n",
    "        weights = BackPropagation(y, activations, weights, layers, lr)\n",
    "\n",
    "    return weights\n"
   ]
  },
  {
   "cell_type": "code",
   "execution_count": 3,
   "id": "a23d1b9f",
   "metadata": {},
   "outputs": [],
   "source": [
    "#function for forward propogation\n",
    "def ForwardPropagation(x, weights, layers):\n",
    "    activations, layer_input = [x], x\n",
    "    for j in range(layers):\n",
    "        activation = Sigmoid(np.dot(layer_input, weights[j].T))\n",
    "        activations.append(activation)\n",
    "        layer_input = np.append(1, activation)\n",
    "    \n",
    "    return activations\n"
   ]
  },
  {
   "cell_type": "code",
   "execution_count": 4,
   "id": "2868058d",
   "metadata": {},
   "outputs": [],
   "source": [
    "#funtion for backward propogation\n",
    "def BackPropagation(y, activations, weights, layers. lr):\n",
    "    outputFinal = activations[-1]\n",
    "    error = np.matrix(y - outputFinal) # Error after 1 cycle\n",
    "    \n",
    "    for j in range(layers, 0, -1):\n",
    "        currActivation = activations[j]\n",
    "        \n",
    "        if(j > 1):\n",
    "            # Append previous\n",
    "            prevActivation = np.append(1, activations[j-1])\n",
    "        else:\n",
    "            # First hidden layer\n",
    "            prevActivation = activations[0]\n",
    "        \n",
    "        delta = np.multiply(error, SigmoidDerivative(currActivation))\n",
    "        weights[j-1] += lr * np.multiply(delta.T, prevActivation)\n",
    "\n",
    "        wc = np.delete(weights[j-1], [0], axis=1)\n",
    "        error = np.dot(delta, wc) #current layer error\n",
    "    \n",
    "    return weights"
   ]
  },
  {
   "cell_type": "code",
   "execution_count": 6,
   "id": "f574e4a5",
   "metadata": {},
   "outputs": [],
   "source": [
    "#defining activation function\n",
    "def Sigmoid(x):\n",
    "    return 1 / (1 + np.exp(-x))\n",
    "\n",
    "def SigmoidDerivative(x):\n",
    "    return np.multiply(x, 1-x)\n"
   ]
  },
  {
   "cell_type": "code",
   "execution_count": 7,
   "id": "39cac16d",
   "metadata": {},
   "outputs": [],
   "source": [
    "#function to predict the output\n",
    "def Predict(item, weights):\n",
    "    layers = len(weights)\n",
    "    item = np.append(1, item)\n",
    "    \n",
    "    # Forward prop.\n",
    "    activations = ForwardPropagation(item, weights, layers)\n",
    "    \n",
    "    Final_output = activations[-1].A1\n",
    "    index = FindMaxActivation(Final_output)\n",
    "\n",
    "    y = [0 for j in range(len(Foutput))]\n",
    "    y[index] = 1 \n",
    "\n",
    "    return y \n",
    "\n",
    "\n",
    "def FindMaxActivation(output):\n",
    "    m, index = output[0], 0\n",
    "    for i in range(1, len(output)):\n",
    "        if(output[i] > m):\n",
    "            m, index = output[i], i\n",
    "    \n",
    "    return index"
   ]
  },
  {
   "cell_type": "code",
   "execution_count": 8,
   "id": "b08fdfc3",
   "metadata": {},
   "outputs": [],
   "source": [
    "#finding the model accuracy\n",
    "def Accuracy(X, Y, weights):\n",
    "    correct = 0\n",
    "\n",
    "    for i in range(len(X)):\n",
    "        x, y = X[i], list(Y[i])\n",
    "        guess = Predict(x, weights)\n",
    "\n",
    "        if(y == guess):\n",
    "            # Right prediction\n",
    "            correct += 1\n",
    "\n",
    "    return correct / len(X)\n"
   ]
  },
  {
   "cell_type": "code",
   "execution_count": 10,
   "id": "821b6878",
   "metadata": {},
   "outputs": [
    {
     "ename": "NameError",
     "evalue": "name 'X' is not defined",
     "output_type": "error",
     "traceback": [
      "\u001b[1;31m---------------------------------------------------------------------------\u001b[0m",
      "\u001b[1;31mNameError\u001b[0m                                 Traceback (most recent call last)",
      "Input \u001b[1;32mIn [10]\u001b[0m, in \u001b[0;36m<cell line: 1>\u001b[1;34m()\u001b[0m\n\u001b[1;32m----> 1\u001b[0m f \u001b[38;5;241m=\u001b[39m \u001b[38;5;28mlen\u001b[39m(\u001b[43mX\u001b[49m[\u001b[38;5;241m0\u001b[39m]) \u001b[38;5;66;03m# no. of features\u001b[39;00m\n\u001b[0;32m      2\u001b[0m o \u001b[38;5;241m=\u001b[39m \u001b[38;5;28mlen\u001b[39m(Y[\u001b[38;5;241m0\u001b[39m]) \u001b[38;5;66;03m# no. of classes\u001b[39;00m\n\u001b[0;32m      4\u001b[0m layers \u001b[38;5;241m=\u001b[39m [f, \u001b[38;5;241m5\u001b[39m, \u001b[38;5;241m10\u001b[39m, o] \u001b[38;5;66;03m# no. of nodes \u001b[39;00m\n",
      "\u001b[1;31mNameError\u001b[0m: name 'X' is not defined"
     ]
    }
   ],
   "source": [
    "\n",
    "f = len(X[0]) # no. of features\n",
    "o = len(Y[0]) # no. of classes\n",
    "\n",
    "layers = [f, 5, 10, o] # no. of nodes \n",
    "L, E = 0.15, 100\n",
    "\n",
    "#calling neural network function\n",
    "weights = NeuralNetwork(X_train, Y_train, X_val, Y_val, epochs=E, \n",
    "nodes=layers, lr=L);"
   ]
  },
  {
   "cell_type": "code",
   "execution_count": null,
   "id": "989715d8",
   "metadata": {},
   "outputs": [],
   "source": []
  }
 ],
 "metadata": {
  "kernelspec": {
   "display_name": "Python 3 (ipykernel)",
   "language": "python",
   "name": "python3"
  },
  "language_info": {
   "codemirror_mode": {
    "name": "ipython",
    "version": 3
   },
   "file_extension": ".py",
   "mimetype": "text/x-python",
   "name": "python",
   "nbconvert_exporter": "python",
   "pygments_lexer": "ipython3",
   "version": "3.9.12"
  }
 },
 "nbformat": 4,
 "nbformat_minor": 5
}
