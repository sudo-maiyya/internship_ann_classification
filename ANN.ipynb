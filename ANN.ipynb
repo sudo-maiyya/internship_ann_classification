{
  "nbformat": 4,
  "nbformat_minor": 0,
  "metadata": {
    "colab": {
      "provenance": [],
      "mount_file_id": "1EfL63wdcdKUfaxdXdYGAT7U1UjcB69sf",
      "authorship_tag": "ABX9TyPxsU51HbnmGoj9rYpQlb3/"
    },
    "kernelspec": {
      "name": "python3",
      "display_name": "Python 3"
    },
    "language_info": {
      "name": "python"
    }
  },
  "cells": [
    {
      "cell_type": "code",
      "execution_count": 1,
      "metadata": {
        "id": "qd5sOYEDpG82"
      },
      "outputs": [],
      "source": [
        "import numpy as np #Linear algebra and mathematical operations\n",
        "import pandas as pd #importing and loading data\n",
        "from sklearn.preprocessing import OneHotEncoder"
      ]
    },
    {
      "cell_type": "code",
      "source": [
        "iris_df = pd.read_csv(\"/content/drive/MyDrive/Data Science /Iris.csv\")\n",
        "iris_df = iris_df.sample(frac=1).reset_index(drop=True) # Shuffle"
      ],
      "metadata": {
        "id": "qLm4IFNGpI1J"
      },
      "execution_count": 2,
      "outputs": []
    },
    {
      "cell_type": "code",
      "source": [
        "iris_df.head()\n"
      ],
      "metadata": {
        "colab": {
          "base_uri": "https://localhost:8080/",
          "height": 206
        },
        "id": "iSr--LJppKen",
        "outputId": "03444811-2b9f-4c39-c498-264e8e89067b"
      },
      "execution_count": 3,
      "outputs": [
        {
          "output_type": "execute_result",
          "data": {
            "text/plain": [
              "    Id  SepalLengthCm  SepalWidthCm  PetalLengthCm  PetalWidthCm  \\\n",
              "0  105            6.5           3.0            5.8           2.2   \n",
              "1   23            4.6           3.6            1.0           0.2   \n",
              "2  107            4.9           2.5            4.5           1.7   \n",
              "3   34            5.5           4.2            1.4           0.2   \n",
              "4  116            6.4           3.2            5.3           2.3   \n",
              "\n",
              "          Species  \n",
              "0  Iris-virginica  \n",
              "1     Iris-setosa  \n",
              "2  Iris-virginica  \n",
              "3     Iris-setosa  \n",
              "4  Iris-virginica  "
            ],
            "text/html": [
              "\n",
              "  <div id=\"df-05611b0b-449e-44b0-9841-705925584bb1\">\n",
              "    <div class=\"colab-df-container\">\n",
              "      <div>\n",
              "<style scoped>\n",
              "    .dataframe tbody tr th:only-of-type {\n",
              "        vertical-align: middle;\n",
              "    }\n",
              "\n",
              "    .dataframe tbody tr th {\n",
              "        vertical-align: top;\n",
              "    }\n",
              "\n",
              "    .dataframe thead th {\n",
              "        text-align: right;\n",
              "    }\n",
              "</style>\n",
              "<table border=\"1\" class=\"dataframe\">\n",
              "  <thead>\n",
              "    <tr style=\"text-align: right;\">\n",
              "      <th></th>\n",
              "      <th>Id</th>\n",
              "      <th>SepalLengthCm</th>\n",
              "      <th>SepalWidthCm</th>\n",
              "      <th>PetalLengthCm</th>\n",
              "      <th>PetalWidthCm</th>\n",
              "      <th>Species</th>\n",
              "    </tr>\n",
              "  </thead>\n",
              "  <tbody>\n",
              "    <tr>\n",
              "      <th>0</th>\n",
              "      <td>105</td>\n",
              "      <td>6.5</td>\n",
              "      <td>3.0</td>\n",
              "      <td>5.8</td>\n",
              "      <td>2.2</td>\n",
              "      <td>Iris-virginica</td>\n",
              "    </tr>\n",
              "    <tr>\n",
              "      <th>1</th>\n",
              "      <td>23</td>\n",
              "      <td>4.6</td>\n",
              "      <td>3.6</td>\n",
              "      <td>1.0</td>\n",
              "      <td>0.2</td>\n",
              "      <td>Iris-setosa</td>\n",
              "    </tr>\n",
              "    <tr>\n",
              "      <th>2</th>\n",
              "      <td>107</td>\n",
              "      <td>4.9</td>\n",
              "      <td>2.5</td>\n",
              "      <td>4.5</td>\n",
              "      <td>1.7</td>\n",
              "      <td>Iris-virginica</td>\n",
              "    </tr>\n",
              "    <tr>\n",
              "      <th>3</th>\n",
              "      <td>34</td>\n",
              "      <td>5.5</td>\n",
              "      <td>4.2</td>\n",
              "      <td>1.4</td>\n",
              "      <td>0.2</td>\n",
              "      <td>Iris-setosa</td>\n",
              "    </tr>\n",
              "    <tr>\n",
              "      <th>4</th>\n",
              "      <td>116</td>\n",
              "      <td>6.4</td>\n",
              "      <td>3.2</td>\n",
              "      <td>5.3</td>\n",
              "      <td>2.3</td>\n",
              "      <td>Iris-virginica</td>\n",
              "    </tr>\n",
              "  </tbody>\n",
              "</table>\n",
              "</div>\n",
              "      <button class=\"colab-df-convert\" onclick=\"convertToInteractive('df-05611b0b-449e-44b0-9841-705925584bb1')\"\n",
              "              title=\"Convert this dataframe to an interactive table.\"\n",
              "              style=\"display:none;\">\n",
              "        \n",
              "  <svg xmlns=\"http://www.w3.org/2000/svg\" height=\"24px\"viewBox=\"0 0 24 24\"\n",
              "       width=\"24px\">\n",
              "    <path d=\"M0 0h24v24H0V0z\" fill=\"none\"/>\n",
              "    <path d=\"M18.56 5.44l.94 2.06.94-2.06 2.06-.94-2.06-.94-.94-2.06-.94 2.06-2.06.94zm-11 1L8.5 8.5l.94-2.06 2.06-.94-2.06-.94L8.5 2.5l-.94 2.06-2.06.94zm10 10l.94 2.06.94-2.06 2.06-.94-2.06-.94-.94-2.06-.94 2.06-2.06.94z\"/><path d=\"M17.41 7.96l-1.37-1.37c-.4-.4-.92-.59-1.43-.59-.52 0-1.04.2-1.43.59L10.3 9.45l-7.72 7.72c-.78.78-.78 2.05 0 2.83L4 21.41c.39.39.9.59 1.41.59.51 0 1.02-.2 1.41-.59l7.78-7.78 2.81-2.81c.8-.78.8-2.07 0-2.86zM5.41 20L4 18.59l7.72-7.72 1.47 1.35L5.41 20z\"/>\n",
              "  </svg>\n",
              "      </button>\n",
              "      \n",
              "  <style>\n",
              "    .colab-df-container {\n",
              "      display:flex;\n",
              "      flex-wrap:wrap;\n",
              "      gap: 12px;\n",
              "    }\n",
              "\n",
              "    .colab-df-convert {\n",
              "      background-color: #E8F0FE;\n",
              "      border: none;\n",
              "      border-radius: 50%;\n",
              "      cursor: pointer;\n",
              "      display: none;\n",
              "      fill: #1967D2;\n",
              "      height: 32px;\n",
              "      padding: 0 0 0 0;\n",
              "      width: 32px;\n",
              "    }\n",
              "\n",
              "    .colab-df-convert:hover {\n",
              "      background-color: #E2EBFA;\n",
              "      box-shadow: 0px 1px 2px rgba(60, 64, 67, 0.3), 0px 1px 3px 1px rgba(60, 64, 67, 0.15);\n",
              "      fill: #174EA6;\n",
              "    }\n",
              "\n",
              "    [theme=dark] .colab-df-convert {\n",
              "      background-color: #3B4455;\n",
              "      fill: #D2E3FC;\n",
              "    }\n",
              "\n",
              "    [theme=dark] .colab-df-convert:hover {\n",
              "      background-color: #434B5C;\n",
              "      box-shadow: 0px 1px 3px 1px rgba(0, 0, 0, 0.15);\n",
              "      filter: drop-shadow(0px 1px 2px rgba(0, 0, 0, 0.3));\n",
              "      fill: #FFFFFF;\n",
              "    }\n",
              "  </style>\n",
              "\n",
              "      <script>\n",
              "        const buttonEl =\n",
              "          document.querySelector('#df-05611b0b-449e-44b0-9841-705925584bb1 button.colab-df-convert');\n",
              "        buttonEl.style.display =\n",
              "          google.colab.kernel.accessAllowed ? 'block' : 'none';\n",
              "\n",
              "        async function convertToInteractive(key) {\n",
              "          const element = document.querySelector('#df-05611b0b-449e-44b0-9841-705925584bb1');\n",
              "          const dataTable =\n",
              "            await google.colab.kernel.invokeFunction('convertToInteractive',\n",
              "                                                     [key], {});\n",
              "          if (!dataTable) return;\n",
              "\n",
              "          const docLinkHtml = 'Like what you see? Visit the ' +\n",
              "            '<a target=\"_blank\" href=https://colab.research.google.com/notebooks/data_table.ipynb>data table notebook</a>'\n",
              "            + ' to learn more about interactive tables.';\n",
              "          element.innerHTML = '';\n",
              "          dataTable['output_type'] = 'display_data';\n",
              "          await google.colab.output.renderOutput(dataTable, element);\n",
              "          const docLink = document.createElement('div');\n",
              "          docLink.innerHTML = docLinkHtml;\n",
              "          element.appendChild(docLink);\n",
              "        }\n",
              "      </script>\n",
              "    </div>\n",
              "  </div>\n",
              "  "
            ]
          },
          "metadata": {},
          "execution_count": 3
        }
      ]
    },
    {
      "cell_type": "code",
      "source": [
        "\n",
        "X = iris_df[['SepalLengthCm', 'SepalWidthCm', 'PetalLengthCm', 'PetalWidthCm']]\n",
        "X = np.array(X)\n",
        "X[:5]\n"
      ],
      "metadata": {
        "colab": {
          "base_uri": "https://localhost:8080/"
        },
        "id": "L-WpbyrqpL3E",
        "outputId": "8267d97c-0ea5-4bbc-853b-3b7ae0ab88de"
      },
      "execution_count": 4,
      "outputs": [
        {
          "output_type": "execute_result",
          "data": {
            "text/plain": [
              "array([[6.5, 3. , 5.8, 2.2],\n",
              "       [4.6, 3.6, 1. , 0.2],\n",
              "       [4.9, 2.5, 4.5, 1.7],\n",
              "       [5.5, 4.2, 1.4, 0.2],\n",
              "       [6.4, 3.2, 5.3, 2.3]])"
            ]
          },
          "metadata": {},
          "execution_count": 4
        }
      ]
    },
    {
      "cell_type": "code",
      "source": [
        "one_hot_encoder = OneHotEncoder(sparse=False)\n",
        "Y = iris_df.Species\n",
        "Y = one_hot_encoder.fit_transform(np.array(Y).reshape(-1, 1))\n",
        "Y[:5]"
      ],
      "metadata": {
        "colab": {
          "base_uri": "https://localhost:8080/"
        },
        "id": "PkjVhIqBpNzf",
        "outputId": "1575bac9-8e7e-447a-9ca4-91f8ec86994a"
      },
      "execution_count": 5,
      "outputs": [
        {
          "output_type": "execute_result",
          "data": {
            "text/plain": [
              "array([[0., 0., 1.],\n",
              "       [1., 0., 0.],\n",
              "       [0., 0., 1.],\n",
              "       [1., 0., 0.],\n",
              "       [0., 0., 1.]])"
            ]
          },
          "metadata": {},
          "execution_count": 5
        }
      ]
    },
    {
      "cell_type": "code",
      "source": [
        "from sklearn.model_selection import train_test_split\n",
        "X_train, X_test, Y_train, Y_test = train_test_split(X, Y, test_size=0.15)"
      ],
      "metadata": {
        "id": "RZRvzGfApQm3"
      },
      "execution_count": 91,
      "outputs": []
    },
    {
      "cell_type": "code",
      "source": [
        "class ANN_Classification():\n",
        "\n",
        "  \n",
        "    def __init__ (self, hidden_Layer_Size = [100,], learning_Rate = 0.001, epochs = 10):\n",
        "        self.hidden_Layer_Size = hidden_Layer_Size\n",
        "        self.learning_Rate = learning_Rate\n",
        "        self.epochs = epochs\n",
        "       # self.activation_function = activation_function\n",
        "        self.weights = None\n",
        "\n",
        "    \n",
        "    def sigmoid(self, x, derivative=False):\n",
        "        if derivative:\n",
        "            return np.multiply(x, 1-x)\n",
        "        return 1/(1 + np.exp(-x))\n",
        "        \n",
        "\n",
        "    def softmax(self, x):\n",
        "        # Numerically stable with large exponentials\n",
        "        exps = np.exp(x - x.max())\n",
        "        return exps / np.sum(exps, axis=0)\n",
        "            \n",
        "\n",
        "    #function for forward propogation\n",
        "    def forward_Prop(self, x, layers):\n",
        "        activations, layer_input = [x], x\n",
        "        for j in range(layers):\n",
        "         # i = \n",
        "          #print(\"i = \"+str(i))\n",
        "          if j <= (layers-1):\n",
        "\n",
        "            activation = self.sigmoid(np.dot(layer_input, self.weights[j].T))\n",
        "            activations.append(activation)\n",
        "            layer_input = np.append(1, activation)\n",
        "\n",
        "          else :\n",
        "            activation = self.softmax(np.dot(layer_input, self.weights[j].T))\n",
        "            activations.append(activation)\n",
        "            layer_input = np.append(1, activation)\n",
        "\n",
        "        return activations\n",
        "\n",
        "\n",
        "    def back_prop(self, y, activations, layers):\n",
        "      outputFinal = activations[-1]\n",
        "      error = np.matrix(y - outputFinal) \n",
        "      \n",
        "      # Error after 1 cycle\n",
        "      for j in range(layers, 0, -1):\n",
        "        currActivation = activations[j]\n",
        "       \n",
        "        if(j > 1):\n",
        "          # Append previous\n",
        "          prevActivation = np.append(1, activations[j-1])\n",
        "        else:\n",
        "          # First hidden layer\n",
        "          prevActivation = activations[0]\n",
        "       \n",
        "        delta = np.multiply(error, self.sigmoid(currActivation, derivative = True))\n",
        "        self.weights[j-1] += self.learning_Rate * np.multiply(delta.T, prevActivation)\n",
        "         \n",
        "        wc = np.delete(self.weights[j-1], [0], axis=1)\n",
        "        error = np.dot(delta, wc) #current layer error\n",
        "       \n",
        "      return self.weights\n",
        "\n",
        "    \n",
        "    def initialize_Weight(self, layers):\n",
        "      layer, self.weights = len(layers), []\n",
        "      #for loop to intialize the weight randomly\n",
        "      for i in range(1, layer):\n",
        "        #assigning random weights\n",
        "        w = [[np.random.uniform(-1, 1) for j in range(layers[i-1] + 1)]for k in range(layers[i])]\n",
        "        self.weights.append(np.matrix(w))\n",
        "    \n",
        "      return self.weights\n",
        "    \n",
        "\n",
        "    #train function\n",
        "    def train(self, X, y):\n",
        "        layers_weights = len(self.weights)\n",
        "        \n",
        "        for i in range(len(self.X)):\n",
        "          x, y = self.X[i], self.y[i]\n",
        "          x = np.matrix(np.append(1, x))\n",
        "          \n",
        "          activations = self.forward_Prop(x, layers_weights)\n",
        "          self.weights = self.back_prop(y, activations, layers_weights)\n",
        "          \n",
        "        return self.weights\n",
        "\n",
        "\n",
        "    def fit(self, X, y):\n",
        "        self.X = X\n",
        "        self.y = y\n",
        "        hidden_Layers = len(self.hidden_Layer_Size) - 1\n",
        "        self.weights = self.initialize_Weight(self.hidden_Layer_Size)\n",
        "\n",
        "        for epoch in range(1, self.epochs+1):\n",
        "          weights = self.train(self.X, self.y)\n",
        "          \n",
        "        return self.weights\n",
        "\n",
        "        \n",
        "    def Predict(self, X):\n",
        "        result = []\n",
        "        for i in range(len(X)):\n",
        "          x = X[i]\n",
        "          #print(str(i) + \" \" + str(len(X)))\n",
        "          layers = len(self.weights)\n",
        "          item = np.append(1, x)\n",
        "\n",
        "          # Forward prop.\n",
        "          activations = self.forward_Prop(item, layers)\n",
        "          \n",
        "          Final_output = activations[-1].A1\n",
        "          index = self.FindMaxActivation(Final_output)\n",
        "          \n",
        "          predicted = [0 for j in range(len(Final_output))]\n",
        "          predicted[index] = 1 \n",
        "      \n",
        "          \n",
        "          result.append(predicted)\n",
        "        \n",
        "        return result\n",
        "      \n",
        "    def FindMaxActivation(self, output):\n",
        "        m, index = output[0], 0\n",
        "        for i in range(1, len(output)):\n",
        "          if(output[i] > m):\n",
        "            m, index = output[i], i\n",
        "        \n",
        "        return index"
      ],
      "metadata": {
        "id": "6RagIWqjpO0a"
      },
      "execution_count": 103,
      "outputs": []
    },
    {
      "cell_type": "code",
      "source": [
        "f = len(X[0]) # no. of features\n",
        "o = len(Y[0]) # no. of classes\n",
        "\n",
        "layers = [f, 5, 10, o] # no. of nodes \n",
        "L, E = 0.15, 210\n",
        "#calling neural network function\n",
        "weights = ANN_Classification(hidden_Layer_Size = layers, epochs=E, learning_Rate = L)"
      ],
      "metadata": {
        "id": "aStWnuliR1tn"
      },
      "execution_count": 130,
      "outputs": []
    },
    {
      "cell_type": "code",
      "source": [
        "ans = weights.fit(X_train, Y_train)"
      ],
      "metadata": {
        "id": "J9xxbxOZ0ueh"
      },
      "execution_count": 131,
      "outputs": []
    },
    {
      "cell_type": "code",
      "source": [
        "from sklearn.metrics import accuracy_score\n",
        "y_pred = weights.Predict(X_test)\n",
        "accuracy_score(Y_test, y_pred)"
      ],
      "metadata": {
        "colab": {
          "base_uri": "https://localhost:8080/"
        },
        "id": "Pfpb2s502raJ",
        "outputId": "75793326-d7ba-4b23-fee3-14b35743dcee"
      },
      "execution_count": 133,
      "outputs": [
        {
          "output_type": "execute_result",
          "data": {
            "text/plain": [
              "0.8260869565217391"
            ]
          },
          "metadata": {},
          "execution_count": 133
        }
      ]
    },
    {
      "cell_type": "markdown",
      "source": [
        "# **Using Keras**"
      ],
      "metadata": {
        "id": "gYA8lM8eFetj"
      }
    },
    {
      "cell_type": "code",
      "source": [
        "from keras.models import Sequential\n",
        "from keras.layers import Dense\n",
        "from keras.optimizers import Adam"
      ],
      "metadata": {
        "id": "fcU7yZaPADDH"
      },
      "execution_count": 101,
      "outputs": []
    },
    {
      "cell_type": "code",
      "source": [
        "# Build the model\n",
        "\n",
        "model = Sequential()\n",
        "\n",
        "model.add(Dense(10, input_shape=(4,), activation='sigmoid', name='h1'))\n",
        "model.add(Dense(10, activation='sigmoid', name='h2'))\n",
        "model.add(Dense(3, activation='softmax', name='output'))\n",
        "\n",
        "# Adam optimizer with learning rate of 0.001\n",
        "optimizer = Adam(lr=0.001)\n",
        "model.compile(optimizer, loss='categorical_crossentropy', metrics=['accuracy'])"
      ],
      "metadata": {
        "colab": {
          "base_uri": "https://localhost:8080/"
        },
        "id": "X1Zm_s9XADAz",
        "outputId": "3a6e1350-0400-4060-fcbf-2f591eab2119"
      },
      "execution_count": 116,
      "outputs": [
        {
          "output_type": "stream",
          "name": "stderr",
          "text": [
            "/usr/local/lib/python3.8/dist-packages/keras/optimizers/optimizer_v2/adam.py:117: UserWarning: The `lr` argument is deprecated, use `learning_rate` instead.\n",
            "  super().__init__(name, **kwargs)\n"
          ]
        }
      ]
    },
    {
      "cell_type": "code",
      "source": [
        "model.fit(X_train, Y_train, epochs=100)"
      ],
      "metadata": {
        "colab": {
          "base_uri": "https://localhost:8080/"
        },
        "id": "lh4Hom5JAC54",
        "outputId": "3ccfe07a-1163-4335-dfbe-a5835de158fe"
      },
      "execution_count": 118,
      "outputs": [
        {
          "output_type": "stream",
          "name": "stdout",
          "text": [
            "Epoch 1/100\n",
            "4/4 [==============================] - 0s 3ms/step - loss: 0.3256 - accuracy: 0.9685\n",
            "Epoch 2/100\n",
            "4/4 [==============================] - 0s 3ms/step - loss: 0.3237 - accuracy: 0.9685\n",
            "Epoch 3/100\n",
            "4/4 [==============================] - 0s 3ms/step - loss: 0.3218 - accuracy: 0.9685\n",
            "Epoch 4/100\n",
            "4/4 [==============================] - 0s 3ms/step - loss: 0.3202 - accuracy: 0.9685\n",
            "Epoch 5/100\n",
            "4/4 [==============================] - 0s 4ms/step - loss: 0.3183 - accuracy: 0.9685\n",
            "Epoch 6/100\n",
            "4/4 [==============================] - 0s 4ms/step - loss: 0.3167 - accuracy: 0.9685\n",
            "Epoch 7/100\n",
            "4/4 [==============================] - 0s 3ms/step - loss: 0.3150 - accuracy: 0.9685\n",
            "Epoch 8/100\n",
            "4/4 [==============================] - 0s 4ms/step - loss: 0.3132 - accuracy: 0.9685\n",
            "Epoch 9/100\n",
            "4/4 [==============================] - 0s 4ms/step - loss: 0.3116 - accuracy: 0.9685\n",
            "Epoch 10/100\n",
            "4/4 [==============================] - 0s 3ms/step - loss: 0.3098 - accuracy: 0.9685\n",
            "Epoch 11/100\n",
            "4/4 [==============================] - 0s 3ms/step - loss: 0.3079 - accuracy: 0.9685\n",
            "Epoch 12/100\n",
            "4/4 [==============================] - 0s 3ms/step - loss: 0.3062 - accuracy: 0.9685\n",
            "Epoch 13/100\n",
            "4/4 [==============================] - 0s 3ms/step - loss: 0.3047 - accuracy: 0.9685\n",
            "Epoch 14/100\n",
            "4/4 [==============================] - 0s 3ms/step - loss: 0.3028 - accuracy: 0.9685\n",
            "Epoch 15/100\n",
            "4/4 [==============================] - 0s 3ms/step - loss: 0.3012 - accuracy: 0.9685\n",
            "Epoch 16/100\n",
            "4/4 [==============================] - 0s 3ms/step - loss: 0.2995 - accuracy: 0.9685\n",
            "Epoch 17/100\n",
            "4/4 [==============================] - 0s 3ms/step - loss: 0.2978 - accuracy: 0.9685\n",
            "Epoch 18/100\n",
            "4/4 [==============================] - 0s 3ms/step - loss: 0.2962 - accuracy: 0.9685\n",
            "Epoch 19/100\n",
            "4/4 [==============================] - 0s 3ms/step - loss: 0.2945 - accuracy: 0.9685\n",
            "Epoch 20/100\n",
            "4/4 [==============================] - 0s 3ms/step - loss: 0.2929 - accuracy: 0.9685\n",
            "Epoch 21/100\n",
            "4/4 [==============================] - 0s 3ms/step - loss: 0.2913 - accuracy: 0.9685\n",
            "Epoch 22/100\n",
            "4/4 [==============================] - 0s 3ms/step - loss: 0.2897 - accuracy: 0.9685\n",
            "Epoch 23/100\n",
            "4/4 [==============================] - 0s 4ms/step - loss: 0.2879 - accuracy: 0.9685\n",
            "Epoch 24/100\n",
            "4/4 [==============================] - 0s 3ms/step - loss: 0.2865 - accuracy: 0.9685\n",
            "Epoch 25/100\n",
            "4/4 [==============================] - 0s 3ms/step - loss: 0.2849 - accuracy: 0.9764\n",
            "Epoch 26/100\n",
            "4/4 [==============================] - 0s 6ms/step - loss: 0.2833 - accuracy: 0.9685\n",
            "Epoch 27/100\n",
            "4/4 [==============================] - 0s 3ms/step - loss: 0.2823 - accuracy: 0.9685\n",
            "Epoch 28/100\n",
            "4/4 [==============================] - 0s 3ms/step - loss: 0.2801 - accuracy: 0.9685\n",
            "Epoch 29/100\n",
            "4/4 [==============================] - 0s 3ms/step - loss: 0.2785 - accuracy: 0.9685\n",
            "Epoch 30/100\n",
            "4/4 [==============================] - 0s 3ms/step - loss: 0.2769 - accuracy: 0.9685\n",
            "Epoch 31/100\n",
            "4/4 [==============================] - 0s 4ms/step - loss: 0.2755 - accuracy: 0.9764\n",
            "Epoch 32/100\n",
            "4/4 [==============================] - 0s 3ms/step - loss: 0.2740 - accuracy: 0.9685\n",
            "Epoch 33/100\n",
            "4/4 [==============================] - 0s 3ms/step - loss: 0.2724 - accuracy: 0.9685\n",
            "Epoch 34/100\n",
            "4/4 [==============================] - 0s 3ms/step - loss: 0.2709 - accuracy: 0.9685\n",
            "Epoch 35/100\n",
            "4/4 [==============================] - 0s 3ms/step - loss: 0.2694 - accuracy: 0.9685\n",
            "Epoch 36/100\n",
            "4/4 [==============================] - 0s 3ms/step - loss: 0.2679 - accuracy: 0.9685\n",
            "Epoch 37/100\n",
            "4/4 [==============================] - 0s 3ms/step - loss: 0.2663 - accuracy: 0.9685\n",
            "Epoch 38/100\n",
            "4/4 [==============================] - 0s 3ms/step - loss: 0.2654 - accuracy: 0.9843\n",
            "Epoch 39/100\n",
            "4/4 [==============================] - 0s 3ms/step - loss: 0.2636 - accuracy: 0.9843\n",
            "Epoch 40/100\n",
            "4/4 [==============================] - 0s 3ms/step - loss: 0.2619 - accuracy: 0.9764\n",
            "Epoch 41/100\n",
            "4/4 [==============================] - 0s 3ms/step - loss: 0.2605 - accuracy: 0.9685\n",
            "Epoch 42/100\n",
            "4/4 [==============================] - 0s 3ms/step - loss: 0.2591 - accuracy: 0.9685\n",
            "Epoch 43/100\n",
            "4/4 [==============================] - 0s 6ms/step - loss: 0.2576 - accuracy: 0.9685\n",
            "Epoch 44/100\n",
            "4/4 [==============================] - 0s 3ms/step - loss: 0.2562 - accuracy: 0.9685\n",
            "Epoch 45/100\n",
            "4/4 [==============================] - 0s 3ms/step - loss: 0.2549 - accuracy: 0.9764\n",
            "Epoch 46/100\n",
            "4/4 [==============================] - 0s 3ms/step - loss: 0.2536 - accuracy: 0.9843\n",
            "Epoch 47/100\n",
            "4/4 [==============================] - 0s 3ms/step - loss: 0.2520 - accuracy: 0.9685\n",
            "Epoch 48/100\n",
            "4/4 [==============================] - 0s 3ms/step - loss: 0.2509 - accuracy: 0.9685\n",
            "Epoch 49/100\n",
            "4/4 [==============================] - 0s 3ms/step - loss: 0.2492 - accuracy: 0.9764\n",
            "Epoch 50/100\n",
            "4/4 [==============================] - 0s 3ms/step - loss: 0.2477 - accuracy: 0.9764\n",
            "Epoch 51/100\n",
            "4/4 [==============================] - 0s 4ms/step - loss: 0.2464 - accuracy: 0.9843\n",
            "Epoch 52/100\n",
            "4/4 [==============================] - 0s 3ms/step - loss: 0.2453 - accuracy: 0.9843\n",
            "Epoch 53/100\n",
            "4/4 [==============================] - 0s 3ms/step - loss: 0.2442 - accuracy: 0.9685\n",
            "Epoch 54/100\n",
            "4/4 [==============================] - 0s 3ms/step - loss: 0.2424 - accuracy: 0.9685\n",
            "Epoch 55/100\n",
            "4/4 [==============================] - 0s 4ms/step - loss: 0.2412 - accuracy: 0.9764\n",
            "Epoch 56/100\n",
            "4/4 [==============================] - 0s 4ms/step - loss: 0.2397 - accuracy: 0.9843\n",
            "Epoch 57/100\n",
            "4/4 [==============================] - 0s 3ms/step - loss: 0.2386 - accuracy: 0.9843\n",
            "Epoch 58/100\n",
            "4/4 [==============================] - 0s 3ms/step - loss: 0.2371 - accuracy: 0.9843\n",
            "Epoch 59/100\n",
            "4/4 [==============================] - 0s 3ms/step - loss: 0.2362 - accuracy: 0.9764\n",
            "Epoch 60/100\n",
            "4/4 [==============================] - 0s 3ms/step - loss: 0.2346 - accuracy: 0.9685\n",
            "Epoch 61/100\n",
            "4/4 [==============================] - 0s 3ms/step - loss: 0.2333 - accuracy: 0.9764\n",
            "Epoch 62/100\n",
            "4/4 [==============================] - 0s 3ms/step - loss: 0.2320 - accuracy: 0.9843\n",
            "Epoch 63/100\n",
            "4/4 [==============================] - 0s 3ms/step - loss: 0.2308 - accuracy: 0.9843\n",
            "Epoch 64/100\n",
            "4/4 [==============================] - 0s 4ms/step - loss: 0.2296 - accuracy: 0.9843\n",
            "Epoch 65/100\n",
            "4/4 [==============================] - 0s 3ms/step - loss: 0.2289 - accuracy: 0.9764\n",
            "Epoch 66/100\n",
            "4/4 [==============================] - 0s 4ms/step - loss: 0.2271 - accuracy: 0.9685\n",
            "Epoch 67/100\n",
            "4/4 [==============================] - 0s 3ms/step - loss: 0.2259 - accuracy: 0.9843\n",
            "Epoch 68/100\n",
            "4/4 [==============================] - 0s 3ms/step - loss: 0.2248 - accuracy: 0.9843\n",
            "Epoch 69/100\n",
            "4/4 [==============================] - 0s 3ms/step - loss: 0.2235 - accuracy: 0.9843\n",
            "Epoch 70/100\n",
            "4/4 [==============================] - 0s 3ms/step - loss: 0.2224 - accuracy: 0.9843\n",
            "Epoch 71/100\n",
            "4/4 [==============================] - 0s 3ms/step - loss: 0.2212 - accuracy: 0.9843\n",
            "Epoch 72/100\n",
            "4/4 [==============================] - 0s 3ms/step - loss: 0.2198 - accuracy: 0.9843\n",
            "Epoch 73/100\n",
            "4/4 [==============================] - 0s 3ms/step - loss: 0.2187 - accuracy: 0.9843\n",
            "Epoch 74/100\n",
            "4/4 [==============================] - 0s 3ms/step - loss: 0.2176 - accuracy: 0.9843\n",
            "Epoch 75/100\n",
            "4/4 [==============================] - 0s 3ms/step - loss: 0.2165 - accuracy: 0.9843\n",
            "Epoch 76/100\n",
            "4/4 [==============================] - 0s 3ms/step - loss: 0.2154 - accuracy: 0.9764\n",
            "Epoch 77/100\n",
            "4/4 [==============================] - 0s 6ms/step - loss: 0.2143 - accuracy: 0.9843\n",
            "Epoch 78/100\n",
            "4/4 [==============================] - 0s 6ms/step - loss: 0.2130 - accuracy: 0.9843\n",
            "Epoch 79/100\n",
            "4/4 [==============================] - 0s 6ms/step - loss: 0.2122 - accuracy: 0.9843\n",
            "Epoch 80/100\n",
            "4/4 [==============================] - 0s 4ms/step - loss: 0.2108 - accuracy: 0.9843\n",
            "Epoch 81/100\n",
            "4/4 [==============================] - 0s 4ms/step - loss: 0.2097 - accuracy: 0.9843\n",
            "Epoch 82/100\n",
            "4/4 [==============================] - 0s 5ms/step - loss: 0.2085 - accuracy: 0.9843\n",
            "Epoch 83/100\n",
            "4/4 [==============================] - 0s 5ms/step - loss: 0.2076 - accuracy: 0.9843\n",
            "Epoch 84/100\n",
            "4/4 [==============================] - 0s 4ms/step - loss: 0.2064 - accuracy: 0.9843\n",
            "Epoch 85/100\n",
            "4/4 [==============================] - 0s 4ms/step - loss: 0.2063 - accuracy: 0.9843\n",
            "Epoch 86/100\n",
            "4/4 [==============================] - 0s 4ms/step - loss: 0.2044 - accuracy: 0.9843\n",
            "Epoch 87/100\n",
            "4/4 [==============================] - 0s 4ms/step - loss: 0.2031 - accuracy: 0.9843\n",
            "Epoch 88/100\n",
            "4/4 [==============================] - 0s 4ms/step - loss: 0.2021 - accuracy: 0.9843\n",
            "Epoch 89/100\n",
            "4/4 [==============================] - 0s 4ms/step - loss: 0.2014 - accuracy: 0.9843\n",
            "Epoch 90/100\n",
            "4/4 [==============================] - 0s 4ms/step - loss: 0.2001 - accuracy: 0.9843\n",
            "Epoch 91/100\n",
            "4/4 [==============================] - 0s 4ms/step - loss: 0.1990 - accuracy: 0.9843\n",
            "Epoch 92/100\n",
            "4/4 [==============================] - 0s 4ms/step - loss: 0.1979 - accuracy: 0.9843\n",
            "Epoch 93/100\n",
            "4/4 [==============================] - 0s 4ms/step - loss: 0.1970 - accuracy: 0.9843\n",
            "Epoch 94/100\n",
            "4/4 [==============================] - 0s 5ms/step - loss: 0.1961 - accuracy: 0.9843\n",
            "Epoch 95/100\n",
            "4/4 [==============================] - 0s 5ms/step - loss: 0.1949 - accuracy: 0.9843\n",
            "Epoch 96/100\n",
            "4/4 [==============================] - 0s 5ms/step - loss: 0.1941 - accuracy: 0.9843\n",
            "Epoch 97/100\n",
            "4/4 [==============================] - 0s 5ms/step - loss: 0.1932 - accuracy: 0.9764\n",
            "Epoch 98/100\n",
            "4/4 [==============================] - 0s 5ms/step - loss: 0.1925 - accuracy: 0.9843\n",
            "Epoch 99/100\n",
            "4/4 [==============================] - 0s 5ms/step - loss: 0.1911 - accuracy: 0.9843\n",
            "Epoch 100/100\n",
            "4/4 [==============================] - 0s 4ms/step - loss: 0.1903 - accuracy: 0.9843\n"
          ]
        },
        {
          "output_type": "execute_result",
          "data": {
            "text/plain": [
              "<keras.callbacks.History at 0x7f64b25e5b80>"
            ]
          },
          "metadata": {},
          "execution_count": 118
        }
      ]
    },
    {
      "cell_type": "code",
      "source": [
        "model.evaluate(X_test, Y_test)"
      ],
      "metadata": {
        "colab": {
          "base_uri": "https://localhost:8080/"
        },
        "id": "Cy85ZmfpAC3S",
        "outputId": "3cd6c85f-967f-472d-aa41-f29d66e50c2c"
      },
      "execution_count": 134,
      "outputs": [
        {
          "output_type": "stream",
          "name": "stdout",
          "text": [
            "1/1 [==============================] - 0s 221ms/step - loss: 0.2203 - accuracy: 0.9565\n"
          ]
        },
        {
          "output_type": "execute_result",
          "data": {
            "text/plain": [
              "[0.2202633172273636, 0.95652174949646]"
            ]
          },
          "metadata": {},
          "execution_count": 134
        }
      ]
    },
    {
      "cell_type": "code",
      "source": [],
      "metadata": {
        "id": "FEWWlVJQACyL"
      },
      "execution_count": null,
      "outputs": []
    }
  ]
}